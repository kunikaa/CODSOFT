{
 "cells": [
  {
   "cell_type": "code",
   "execution_count": null,
   "id": "0d59c657",
   "metadata": {},
   "outputs": [
    {
     "name": "stderr",
     "output_type": "stream",
     "text": [
      "C:\\Users\\kunika\\AppData\\Local\\Packages\\PythonSoftwareFoundation.Python.3.11_qbz5n2kfra8p0\\LocalCache\\local-packages\\Python311\\site-packages\\numpy\\lib\\_nanfunctions_impl.py:1215: RuntimeWarning: Mean of empty slice\n",
      "  return np.nanmean(a, axis, out=out, keepdims=keepdims)\n"
     ]
    },
    {
     "name": "stdout",
     "output_type": "stream",
     "text": [
      "Mean Squared Error: 1.59\n",
      "R² Score: 0.15\n"
     ]
    }
   ],
   "source": [
    "import pandas as pd\n",
    "from sklearn.model_selection import train_test_split\n",
    "from sklearn.linear_model import LinearRegression\n",
    "from sklearn.metrics import mean_squared_error, r2_score\n",
    "\n",
    "\n",
    "df = pd.read_csv('IMDb Movies India.csv', encoding='latin1')\n",
    "\n",
    "\n",
    "df = df[['Name', 'Year', 'Duration', 'Genre', 'Rating', 'Votes', 'Director', 'Actor 1', 'Actor 2', 'Actor 3']]\n",
    "df = df.dropna(subset=['Rating'])  \n",
    "\n",
    "\n",
    "df['Year'] = pd.to_numeric(df['Year'], errors='coerce')\n",
    "df['Year'] = df['Year'].fillna(df['Year'].median())\n",
    "\n",
    "\n",
    "df['Duration'] = df['Duration'].str.extract('(\\d+)')  \n",
    "df['Duration'] = pd.to_numeric(df['Duration'], errors='coerce')\n",
    "df['Duration'] = df['Duration'].fillna(df['Duration'].median())\n",
    "\n",
    "\n",
    "df['Votes'] = df['Votes'].str.replace(',', '')  \n",
    "df['Votes'] = pd.to_numeric(df['Votes'], errors='coerce')\n",
    "df['Votes'] = df['Votes'].fillna(df['Votes'].median())\n",
    "\n",
    "\n",
    "df['Genre'] = df['Genre'].fillna('Unknown')\n",
    "\n",
    "\n",
    "for col in ['Director', 'Actor 1', 'Actor 2', 'Actor 3']:\n",
    "    df[col] = df[col].fillna('Unknown')\n",
    "\n",
    "\n",
    "genre_dummies = df['Genre'].str.get_dummies(sep=', ')\n",
    "X = pd.concat([df[['Year', 'Duration', 'Votes']], genre_dummies], axis=1)\n",
    "\n",
    "\n",
    "X = X.fillna(0)\n",
    "\n",
    "\n",
    "y = df['Rating']\n",
    "\n",
    "\n",
    "X_train, X_test, y_train, y_test = train_test_split(\n",
    "    X, y, test_size=0.2, random_state=42\n",
    ")\n",
    "\n",
    "\n",
    "model = LinearRegression()\n",
    "model.fit(X_train, y_train)\n",
    "\n",
    "\n",
    "y_pred = model.predict(X_test)\n",
    "\n",
    "mse = mean_squared_error(y_test, y_pred)\n",
    "r2 = r2_score(y_test, y_pred)\n",
    "\n",
    "print(f\"Mean Squared Error: {mse:.2f}\")\n",
    "print(f\"R² Score: {r2:.2f}\")\n",
    "\n"
   ]
  },
  {
   "cell_type": "code",
   "execution_count": null,
   "id": "ab6fbce7",
   "metadata": {},
   "outputs": [],
   "source": []
  }
 ],
 "metadata": {
  "kernelspec": {
   "display_name": "Python 3",
   "language": "python",
   "name": "python3"
  },
  "language_info": {
   "codemirror_mode": {
    "name": "ipython",
    "version": 3
   },
   "file_extension": ".py",
   "mimetype": "text/x-python",
   "name": "python",
   "nbconvert_exporter": "python",
   "pygments_lexer": "ipython3",
   "version": "3.11.9"
  }
 },
 "nbformat": 4,
 "nbformat_minor": 5
}
